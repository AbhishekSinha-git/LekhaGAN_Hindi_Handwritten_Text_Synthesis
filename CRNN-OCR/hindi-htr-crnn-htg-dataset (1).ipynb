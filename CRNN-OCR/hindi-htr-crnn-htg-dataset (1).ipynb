{
 "cells": [
  {
   "cell_type": "code",
   "execution_count": 1,
   "metadata": {
    "scrolled": true
   },
   "outputs": [],
   "source": [
    "# !pip install matplotlib h5py python-Levenshtein\n",
    "# !pip install --upgrade ipywidgets\n",
    "# !pip install tqdm\n",
    "# !pip install --upgrade ipywidgets jupyterlab jupyterlab-widgets"
   ]
  },
  {
   "cell_type": "markdown",
   "metadata": {},
   "source": [
    "## Imports"
   ]
  },
  {
   "cell_type": "code",
   "execution_count": 2,
   "metadata": {
    "_cell_guid": "b1076dfc-b9ad-4769-8c92-a6c4dae69d19",
    "_uuid": "8f2839f25d086af736a60e9eeb907d3b93b6e0e5"
   },
   "outputs": [],
   "source": [
    "import torch\n",
    "from torch import nn\n",
    "from torch.utils.data import Dataset, IterableDataset, DataLoader\n",
    "from torch.utils.data._utils.collate import default_convert\n",
    "import torch.nn.functional as F\n",
    "from torch.nn import init\n",
    "import torch.distributed as dist\n",
    "import torch.optim as optim\n",
    "\n",
    "import matplotlib.pyplot as plt\n",
    "import itertools\n",
    "import numpy as np\n",
    "import pickle, h5py\n",
    "import time\n",
    "import random, os, re, collections"
   ]
  },
  {
   "cell_type": "code",
   "execution_count": 3,
   "metadata": {},
   "outputs": [],
   "source": [
    "# !pip install jupyterlab-widgets\n",
    "# !jupyter labextension enable @jupyter-widgets/jupyterlab-manager\n",
    "# from tqdm import tqdm\n",
    "# import ipywidgets"
   ]
  },
  {
   "cell_type": "markdown",
   "metadata": {},
   "source": [
    "## Dataloader"
   ]
  },
  {
   "cell_type": "code",
   "execution_count": 4,
   "metadata": {},
   "outputs": [],
   "source": [
    "# import pickle\n",
    "# import os\n",
    "# import h5py\n",
    "# from torch.utils.data import Dataset, DataLoader\n",
    "\n",
    "# class CustomPickleDataset(Dataset):\n",
    "#     def __init__(self, tokens_file, sizes_file, folder_path, data_range, token_id_map=None, pad_length=12):\n",
    "#         \"\"\"\n",
    "#         Args:\n",
    "#             tokens_file (str): Path to the pickle file containing tokens.\n",
    "#             sizes_file (str): Path to the pickle file containing sizes.\n",
    "#             folder_path (str): Path to the folder containing HDF5 files.\n",
    "#             token_id_map (dict): Mapping of tokens to IDs.\n",
    "#             pad_length (int): Maximum length for padding tokens.\n",
    "#         \"\"\"\n",
    "#         # Load tokens and sizes\n",
    "#         with open(tokens_file, 'rb') as f:\n",
    "#             self.tokens = pickle.load(f)\n",
    "        \n",
    "#         with open(sizes_file, 'rb') as f:\n",
    "#             self.sizes = pickle.load(f)\n",
    "\n",
    "#         # Preload all HDF5 data into memory\n",
    "#         self.data = []\n",
    "#         # self.token_id_map = token_id_map\n",
    "#         self.pad_length = pad_length\n",
    "\n",
    "#         def extract_number(file_path):\n",
    "#             match = re.search(r'(\\d+)', file_path)\n",
    "#             return int(match.group(1)) if match else float('inf')\n",
    "\n",
    "#         self.h5_files = sorted(\n",
    "#             [os.path.join(folder_path, file) for file in os.listdir(folder_path) if file.endswith('.h5')],\n",
    "#             key=extract_number\n",
    "#         )[data_range[0]:data_range[1]]\n",
    "\n",
    "#         # Load all chunks from all files into memory\n",
    "#         for file_path in self.h5_files:\n",
    "#             with h5py.File(file_path, 'r') as h5_file:\n",
    "#                 file_data = h5_file['data']\n",
    "#                 self.data.extend(file_data[:])  # Load all data from the file\n",
    "\n",
    "        \n",
    "#         # change length of tokens and sizes to keep lengths of variables consistent\n",
    "#         self.tokens = self.tokens[:len(self.data)]\n",
    "#         self.sizes = self.sizes[:len(self.data)]\n",
    "        \n",
    "#         # Validate data consistency\n",
    "#         assert len(self.tokens) == len(self.sizes) == len(self.data), \\\n",
    "#             f\"Mismatch in data lengths: tokens({len(self.tokens)}), sizes({len(self.sizes)}), data({len(self.data)}).\"\n",
    "\n",
    "#     def __len__(self):\n",
    "#         return len(self.tokens)\n",
    "    \n",
    "#     def __getitem__(self, idx):\n",
    "#         # Get tokenized and padded tokens\n",
    "#         # tokens = self.tokens[idx][0]\n",
    "#         # tokens = [self.token_id_map[x] for x in tokens]\n",
    "#         # tokens = tokens + [self.token_id_map[\"<PAD>\"]] * (self.pad_length - len(tokens))\n",
    "        \n",
    "#         word = self.tokens[idx][1]  # Get the word\n",
    "#         size = self.sizes[idx]      # Get the size\n",
    "#         chunk = self.data[idx]      # Get the corresponding chunk\n",
    "#         # return torch.tensor(tokens), word, torch.tensor(size), torch.tensor(chunk)\n",
    "#         return word, torch.tensor(size), torch.tensor(chunk)"
   ]
  },
  {
   "cell_type": "code",
   "execution_count": 5,
   "metadata": {},
   "outputs": [],
   "source": [
    "import pickle\n",
    "import os\n",
    "import h5py\n",
    "import re # Make sure re is imported\n",
    "import torch # Make sure torch is imported\n",
    "from torch.utils.data import Dataset, DataLoader\n",
    "from tqdm import tqdm # Keep tqdm for progress\n",
    "\n",
    "class CustomPickleDataset(Dataset):\n",
    "    def __init__(self, tokens_file, sizes_file, folder_path, data_range, token_id_map=None, pad_length=12):\n",
    "        # Load full tokens and sizes first\n",
    "        with open(tokens_file, 'rb') as f:\n",
    "            all_tokens = pickle.load(f)\n",
    "        with open(sizes_file, 'rb') as f:\n",
    "            all_sizes = pickle.load(f)\n",
    "\n",
    "        self.pad_length = pad_length\n",
    "\n",
    "        def extract_number(file_path):\n",
    "            # Robust extraction: handle potential missing numbers or different formats\n",
    "            basename = os.path.basename(file_path)\n",
    "            match = re.search(r'(\\d+)', basename)\n",
    "            return int(match.group(1)) if match else float('inf')\n",
    "\n",
    "        all_h5_files_unsorted = [os.path.join(folder_path, file) for file in os.listdir(folder_path) if file.endswith('.h5')]\n",
    "        # Check if sorting is actually needed based on filenames\n",
    "        if not all_h5_files_unsorted:\n",
    "             raise FileNotFoundError(f\"No HDF5 files found in {folder_path}\")\n",
    "\n",
    "        # Sort based on extracted number\n",
    "        all_h5_files_sorted = sorted(all_h5_files_unsorted, key=extract_number)\n",
    "\n",
    "        # --- Determine the START and END item indices corresponding to the file range ---\n",
    "        self.data = []\n",
    "        start_item_index = 0\n",
    "        end_item_index = 0\n",
    "        items_loaded = 0\n",
    "        files_in_range = all_h5_files_sorted[data_range[0]:data_range[1]]\n",
    "\n",
    "        # Check if the selected range is valid\n",
    "        if not files_in_range:\n",
    "             print(f\"Warning: Data range {data_range} resulted in empty file list from {len(all_h5_files_sorted)} total files.\")\n",
    "             # Handle this case: maybe raise error or result in empty dataset\n",
    "             self.tokens = []\n",
    "             self.sizes = []\n",
    "             self.data = []\n",
    "             return # Stop initialization\n",
    "\n",
    "        print(f\"Loading data from {len(files_in_range)} HDF5 files (indices {data_range[0]} to {data_range[1]-1})...\")\n",
    "\n",
    "        # Calculate start index by summing lengths of files *before* the range\n",
    "        print(\"Calculating start index...\")\n",
    "        pbar_start = tqdm(total=data_range[0], desc=\"Calc Start Idx\", leave=False)\n",
    "        for i in range(data_range[0]):\n",
    "            try:\n",
    "                with h5py.File(all_h5_files_sorted[i], 'r') as h5_file:\n",
    "                    start_item_index += len(h5_file['data'])\n",
    "                    pbar_start.update(1)\n",
    "            except Exception as e:\n",
    "                 print(f\"Warning: Could not read file {all_h5_files_sorted[i]} to determine length: {e}\")\n",
    "                 # Decide how to handle: skip? raise error? Assume zero length?\n",
    "        pbar_start.close()\n",
    "\n",
    "        print(f\"Calculated start item index: {start_item_index}\")\n",
    "\n",
    "        # Load data from the selected files AND calculate end index\n",
    "        print(f\"Loading chunks from files in range {data_range}...\")\n",
    "        pbar_load = tqdm(files_in_range, desc=\"Loading Chunks\", leave=False)\n",
    "        for file_path in pbar_load:\n",
    "            try:\n",
    "                with h5py.File(file_path, 'r') as h5_file:\n",
    "                    file_data_array = h5_file['data'][:] # Load into memory\n",
    "                    self.data.extend(file_data_array)\n",
    "                    items_loaded += len(file_data_array)\n",
    "                    pbar_load.set_postfix({\"File\": os.path.basename(file_path), \"Items\": len(file_data_array)})\n",
    "            except Exception as e:\n",
    "                print(f\"Warning: Could not read data from file {file_path}: {e}\")\n",
    "                # Decide how to handle: skip? raise error?\n",
    "\n",
    "        pbar_load.close()\n",
    "        end_item_index = start_item_index + items_loaded\n",
    "        print(f\"Finished loading {items_loaded} chunks. Total data length: {len(self.data)}\")\n",
    "        print(f\"Calculated end item index: {end_item_index}\")\n",
    "\n",
    "\n",
    "        # --- Slice tokens and sizes using the calculated item indices ---\n",
    "        if start_item_index >= len(all_tokens) or start_item_index >= len(all_sizes):\n",
    "             print(f\"Warning: Calculated start item index ({start_item_index}) is out of bounds for tokens/sizes (len {len(all_tokens)}/{len(all_sizes)}). Check file contents vs pickle files.\")\n",
    "             self.tokens = []\n",
    "             self.sizes = []\n",
    "             # Maybe truncate self.data too or raise error\n",
    "             self.data = []\n",
    "             return\n",
    "\n",
    "        # Adjust end_item_index if it exceeds the bounds of the original lists\n",
    "        safe_end_item_index = min(end_item_index, len(all_tokens), len(all_sizes))\n",
    "        if safe_end_item_index < end_item_index:\n",
    "             print(f\"Warning: Calculated end item index ({end_item_index}) exceeds tokens/sizes list length. Truncating slice to {safe_end_item_index}.\")\n",
    "             # Also truncate self.data to match the number of items we can actually get labels/sizes for\n",
    "             items_to_keep = safe_end_item_index - start_item_index\n",
    "             if items_to_keep < len(self.data):\n",
    "                  print(f\"Truncating self.data from {len(self.data)} to {items_to_keep} items.\")\n",
    "                  self.data = self.data[:items_to_keep]\n",
    "\n",
    "\n",
    "        print(f\"Slicing tokens/sizes from index {start_item_index} to {safe_end_item_index}\")\n",
    "        self.tokens = all_tokens[start_item_index:safe_end_item_index]\n",
    "        self.sizes = all_sizes[start_item_index:safe_end_item_index]\n",
    "\n",
    "        # Final validation\n",
    "        print(f\"Final lengths: tokens={len(self.tokens)}, sizes={len(self.sizes)}, data={len(self.data)}\")\n",
    "        assert len(self.tokens) == len(self.sizes) == len(self.data), \\\n",
    "            f\"CRITICAL: Mismatch after slicing: tokens({len(self.tokens)}), sizes({len(self.sizes)}), data({len(self.data)}).\"\n",
    "\n",
    "\n",
    "    def __len__(self):\n",
    "        # Return the length of the *loaded* data for this specific dataset instance\n",
    "        return len(self.data) # Use self.data length as the source of truth after __init__\n",
    "\n",
    "    def __getitem__(self, idx):\n",
    "        # idx will now correctly correspond to the items in self.tokens, self.sizes, self.data\n",
    "        if idx >= len(self.data):\n",
    "             # This shouldn't happen if __len__ is correct, but good sanity check\n",
    "             raise IndexError(f\"Index {idx} out of bounds for dataset length {len(self.data)}\")\n",
    "\n",
    "        word = self.tokens[idx][1]  # Get the word\n",
    "        size = self.sizes[idx]      # Get the size\n",
    "        chunk = self.data[idx]      # Get the corresponding chunk\n",
    "\n",
    "        # Ensure correct types are returned (DataLoader's collate_fn might handle some)\n",
    "        # It's generally safer to convert to tensors here if not done by collate_fn\n",
    "        # Returning raw types might be fine if default_collate handles it.\n",
    "        # Let's assume default collate works for now based on your previous code.\n",
    "        # Note: If 'chunk' is already a numpy array from HDF5, wrap it.\n",
    "        # If size is a numpy type, wrap it.\n",
    "        return word, torch.tensor(size), torch.from_numpy(chunk) if not isinstance(chunk, torch.Tensor) else chunk\n",
    "\n",
    "# --- DataLoader Instantiation ---\n",
    "# tokens_file = 'dataset/tokens.pkl'\n",
    "# sizes_file = 'dataset/chunks_size_count.pkl'\n",
    "# folder_path = 'dataset/ImageChunksSmallCollated/ImageChunksSmallCollated'\n",
    "\n",
    "# print(\"loading training data\")\n",
    "# train_dataset = CustomPickleDataset(tokens_file, sizes_file, folder_path, pad_length=12, data_range=[0, 100]) # Starts at 0 - should be fine\n",
    "# train_loader = DataLoader(train_dataset, batch_size=64, shuffle=True, pin_memory=False, num_workers=0) # Start with num_workers=0 for debug\n",
    "\n",
    "# print(\"loading validation data\")\n",
    "# # Example: Load files corresponding to indices 100 to 120 (exclusive of 120)\n",
    "# val_dataset = CustomPickleDataset(tokens_file, sizes_file, folder_path, pad_length=12, data_range=[100, 120])\n",
    "# val_loader = DataLoader(val_dataset, batch_size=64, shuffle=False, pin_memory=False, num_workers=0) # NO SHUFFLE, num_workers=0"
   ]
  },
  {
   "cell_type": "code",
   "execution_count": 6,
   "metadata": {},
   "outputs": [
    {
     "name": "stdout",
     "output_type": "stream",
     "text": [
      "loading validation data\n",
      "Loading data from 100 HDF5 files (indices 900 to 999)...\n",
      "Calculating start index...\n"
     ]
    },
    {
     "name": "stderr",
     "output_type": "stream",
     "text": [
      "                                                                                                                        "
     ]
    },
    {
     "name": "stdout",
     "output_type": "stream",
     "text": [
      "Calculated start item index: 180000\n",
      "Loading chunks from files in range [900, 1000]...\n"
     ]
    },
    {
     "name": "stderr",
     "output_type": "stream",
     "text": [
      "                                                                                                                        "
     ]
    },
    {
     "name": "stdout",
     "output_type": "stream",
     "text": [
      "Finished loading 20000 chunks. Total data length: 20000\n",
      "Calculated end item index: 200000\n",
      "Slicing tokens/sizes from index 180000 to 200000\n",
      "Final lengths: tokens=20000, sizes=20000, data=20000\n"
     ]
    },
    {
     "name": "stderr",
     "output_type": "stream",
     "text": []
    }
   ],
   "source": [
    "try:\n",
    "    del train_dataset\n",
    "    del train_loader\n",
    "    del val_dataset\n",
    "    del val_loader\n",
    "except: pass\n",
    "\n",
    "tokens_file = 'dataset/tokens.pkl'\n",
    "sizes_file = 'dataset/chunks_size_count.pkl'\n",
    "folder_path = 'dataset/ImageChunksSmallCollated/ImageChunksSmallCollated'\n",
    "\n",
    "# print(\"loading training data\")\n",
    "# train_dataset = CustomPickleDataset(tokens_file, sizes_file, folder_path, pad_length=12, data_range=[0,900])\n",
    "# train_loader = DataLoader(train_dataset, batch_size=64, shuffle=True, pin_memory=False)\n",
    "\n",
    "print(\"loading validation data\")\n",
    "val_dataset = CustomPickleDataset(tokens_file, sizes_file, folder_path, pad_length=12, data_range=[900,1000])\n",
    "val_loader = DataLoader(val_dataset, batch_size=64, shuffle=True, pin_memory=False)"
   ]
  },
  {
   "cell_type": "code",
   "execution_count": 7,
   "metadata": {},
   "outputs": [
    {
     "name": "stdout",
     "output_type": "stream",
     "text": [
      "Words: [('शलाकापुरुष', 'मिचली', 'बितावे', 'चिकनियापन', 'जूही', 'जनन', 'रंगदानी', 'पूगफल', 'भटकटैया', 'ढुलना', 'हेराते', 'ठगता', 'ज्ञापित', 'अललाए', 'लिखितता', 'उगटिए', 'घिसटते', 'सीमातिक्रमित', 'शंपात', 'अनिलसार', 'मालतीतीरज', 'कुरेलन', 'घबराएगी', 'घुमकर', 'उबहती', 'जुगल', 'मियादी', 'बाउल', 'लोन', 'गुमाएगी', 'अपरक्ति', 'चपकाइए', 'टारटन', 'परुसता', 'उगलने', 'जघनचपला', 'महकाते', 'खोलवाना', 'चढाव', 'चकोटता', 'जकडाव', 'मित्राई', 'चुदते', 'बुरादना', 'पैनाओ', 'पंचबाण', 'सुलाती', 'सैरो', 'बेलरूसियन', 'अटकल', 'शिकायती', 'आलसहीन', 'लहराया', 'लौटरी', 'जहीन', 'मोडतोड', 'सुरवाहन', 'उगाहने', 'कीनियाई', 'जलसंभर', 'लिलाम', 'बनिहाल', 'जीवंतक', 'बजवाओगी')]\n",
      "Sizes: torch.Size([64])\n",
      "Chunks: torch.Size([64, 11, 64, 64])\n",
      "हेराते\n"
     ]
    },
    {
     "data": {
      "text/plain": [
       "<matplotlib.image.AxesImage at 0x7f8ebdfa6190>"
      ]
     },
     "execution_count": 7,
     "metadata": {},
     "output_type": "execute_result"
    },
    {
     "data": {
      "image/png": "[encoded data removed]",
      "text/plain": [
       "<Figure size 640x480 with 1 Axes>"
      ]
     },
     "metadata": {},
     "output_type": "display_data"
    }
   ],
   "source": [
    "for batch in train_loader:\n",
    "    # print(batch)\n",
    "    words, sizes, chunks = batch\n",
    "    print(\"Words:\", words)\n",
    "    print(\"Sizes:\", sizes.shape)\n",
    "    print(\"Chunks:\", chunks.shape)  # Expect (batch_size, 11, 64, 64)\n",
    "    break\n",
    "\n",
    "import matplotlib.pyplot as plt\n",
    "idxx = 10\n",
    "print(words[0][idxx])\n",
    "plt.imshow(np.hstack(chunks[idxx]), cmap=\"gray\")"
   ]
  },
  {
   "cell_type": "code",
   "execution_count": 9,
   "metadata": {},
   "outputs": [
    {
     "name": "stdout",
     "output_type": "stream",
     "text": [
      "Words: [('अपच', 'सपे', 'इशा', 'मरूर', 'अमुख्यत', 'सिलबिलिया', 'ठनकावे', 'तानसेन', 'फबना', 'खनिजीय', 'बरछी', 'विशेषित', 'मूदाती', 'बिठाना', 'आखता', 'दूरंगम', 'कुटीचक', 'अकीदे', 'दौहित्रायण', 'कोमलीकरण', 'उलझाती', 'डेमोक्रेसी', 'बखारी', 'सरसेटने', 'पिता', 'निक्षारक', 'नकारवाता', 'क्रोडपत्रीय', 'वैट', 'झुमवाकर', 'बहुक्म', 'ओशीरिश', 'ग्रहनेमि', 'घासयुक्त', 'आविर', 'बउराते', 'संज्ञापद', 'जिदियाते', 'सुपरिभाषितता', 'तराशवाते', 'नडह', 'आये', 'सजाता', 'छेडने', 'अलते', 'नामचा', 'खटारा', 'विपद', 'पागलपना', 'फैलता', 'निखात', 'घनतोल', 'बखानेगा', 'बहुमत', 'अपरिभाषितता', 'अपाटवत', 'चिरायंद', 'परिसीमितता', 'साधुधी', 'क्रोडीय', 'खुदाई', 'नेवग', 'अग्रहरण', 'दूतसंवाद')]\n",
      "Sizes: torch.Size([64])\n",
      "Chunks: torch.Size([64, 11, 64, 64])\n",
      "बरछी\n"
     ]
    },
    {
     "data": {
      "text/plain": [
       "<matplotlib.image.AxesImage at 0x7fd672357250>"
      ]
     },
     "execution_count": 9,
     "metadata": {},
     "output_type": "execute_result"
    },
    {
     "data": {
      "image/png": "[encoded data removed]",
      "text/plain": [
       "<Figure size 640x480 with 1 Axes>"
      ]
     },
     "metadata": {},
     "output_type": "display_data"
    }
   ],
   "source": [
    "for batch in val_loader:\n",
    "    # print(batch)\n",
    "    words, sizes, chunks = batch\n",
    "    print(\"Words:\", words)\n",
    "    print(\"Sizes:\", sizes.shape)\n",
    "    print(\"Chunks:\", chunks.shape)  # Expect (batch_size, 11, 64, 64)\n",
    "    break\n",
    "\n",
    "import matplotlib.pyplot as plt\n",
    "idxx = 10\n",
    "print(words[0][idxx])\n",
    "plt.imshow(np.hstack(chunks[idxx]), cmap=\"gray\")"
   ]
  },
  {
   "cell_type": "markdown",
   "metadata": {},
   "source": [
    "## Architecture"
   ]
  },
  {
   "cell_type": "code",
   "execution_count": 10,
   "metadata": {},
   "outputs": [],
   "source": [
    " # -ँंःअआइईउऊएऐओऔकखगघङचछजझञटठडढणतथदधनपफबभमयरलवशषसह़ािीुूृेैॉोौ्ज़ड़ढ़।०१२३४५६७८९\n",
    "HINDI_ALPHABET = (\"-ँंःअआइईउऊएऐओऔकखगघङचछजझञटठडढणतथदधनपफबभमयरलवशषसह़ािीुूृेैॉोौ्ज़ड़ढ़।०१२३४५६७८९\")  # Punctuation/Symbols"
   ]
  },
  {
   "cell_type": "code",
   "execution_count": 22,
   "metadata": {},
   "outputs": [],
   "source": [
    "def init_weights(net, init_type='normal', init_gain=0.02):\n",
    "    \"\"\"Initialize network weights.\n",
    "    Parameters:\n",
    "        net (network)   -- network to be initialized\n",
    "        init_type (str) -- the name of an initialization method: normal | xavier | kaiming | orthogonal\n",
    "        init_gain (float)    -- scaling factor for normal, xavier and orthogonal.\n",
    "    We use 'normal' in the original pix2pix and CycleGAN paper. But xavier and kaiming might\n",
    "    work better for some applications. Feel free to try yourself.\n",
    "    \"\"\"\n",
    "    def init_func(m):  # define the initialization function\n",
    "        classname = m.__class__.__name__\n",
    "        if hasattr(m, 'weight') and (classname.find('Conv') != -1 or classname.find('Linear') != -1):\n",
    "            if init_type == 'normal':\n",
    "                init.normal_(m.weight.data, 0.0, init_gain)\n",
    "            elif init_type == 'xavier':\n",
    "                init.xavier_normal_(m.weight.data, gain=init_gain)\n",
    "            elif init_type == 'kaiming':\n",
    "                init.kaiming_normal_(m.weight.data, a=0, mode='fan_in')\n",
    "            elif init_type == 'orthogonal':\n",
    "                init.orthogonal_(m.weight.data, gain=init_gain)\n",
    "            else:\n",
    "                raise NotImplementedError('initialization method [%s] is not implemented' % init_type)\n",
    "            if hasattr(m, 'bias') and m.bias is not None:\n",
    "                init.constant_(m.bias.data, 0.0)\n",
    "        elif classname.find('BatchNorm2d') != -1:  # BatchNorm Layer's weight is not a matrix; only normal distribution applies.\n",
    "            init.normal_(m.weight.data, 1.0, init_gain)\n",
    "            init.constant_(m.bias.data, 0.0)\n",
    "\n",
    "    print('initialize network with %s' % init_type)\n",
    "    net.apply(init_func)  # apply the initialization function <init_func>\n",
    "    return net\n",
    "\n",
    "def to_device(net, gpu_ids):\n",
    "    if len(gpu_ids) > 0:\n",
    "        assert(torch.cuda.is_available())\n",
    "        net.to(gpu_ids[0])\n",
    "        # net = torch.nn.DataParallel(net, gpu_ids)  # multi-GPUs\n",
    "        if len(gpu_ids)>1:\n",
    "            net = torch.nn.DataParallel(net, device_ids=gpu_ids).cuda()\n",
    "            # net = torch.nn.DistributedDataParallel(net)\n",
    "    return net"
   ]
  },
  {
   "cell_type": "code",
   "execution_count": 23,
   "metadata": {},
   "outputs": [],
   "source": [
    "class BidirectionalLSTM(nn.Module):\n",
    "    def __init__(self, nIn, nHidden, nOut):\n",
    "        super(BidirectionalLSTM, self).__init__()\n",
    "        self.rnn = nn.LSTM(nIn, nHidden, bidirectional=True)\n",
    "        self.embedding = nn.Linear(nHidden * 2, nOut)\n",
    "\n",
    "    def forward(self, input):\n",
    "        recurrent, _ = self.rnn(input)\n",
    "        T, b, h = recurrent.size()\n",
    "        t_rec = recurrent.view(T * b, h)\n",
    "        output = self.embedding(t_rec)  # [T * b, nOut]\n",
    "        output = output.view(T, b, -1)\n",
    "        return output"
   ]
  },
  {
   "cell_type": "code",
   "execution_count": 24,
   "metadata": {},
   "outputs": [],
   "source": [
    "class CRNN(nn.Module):\n",
    "    def __init__(self, opt, leakyRelu=False):\n",
    "        super(CRNN, self).__init__()\n",
    "        self.name = 'OCR'\n",
    "        assert opt.imgH % 16 == 0, 'imgH has to be a multiple of 16'\n",
    "\n",
    "        ks = [3, 3, 3, 3, 3, 3, 2]\n",
    "        ps = [1, 1, 1, 1, 1, 1, 0]\n",
    "        ss = [1, 1, 1, 1, 1, 1, 1]\n",
    "        nm = [64, 128, 256, 256, 512, 512, 512]\n",
    "\n",
    "        cnn = nn.Sequential()\n",
    "        # Use opt.input_nc instead of opt.num_layers_OCR for input channels\n",
    "        nIn_initial = opt.input_nc\n",
    "        nh = opt.hidden_size_OCR\n",
    "        dealwith_lossnone = opt.dealwith_lossnone # whether to replace all nan/inf in gradients to zero\n",
    "\n",
    "        def convRelu(i, batchNormalization=False):\n",
    "            nIn = nIn_initial if i == 0 else nm[i - 1]\n",
    "            nOut = nm[i]\n",
    "            cnn.add_module('conv{0}'.format(i),\n",
    "                           nn.Conv2d(nIn, nOut, ks[i], ss[i], ps[i]))\n",
    "            if batchNormalization:\n",
    "                cnn.add_module('batchnorm{0}'.format(i), nn.BatchNorm2d(nOut))\n",
    "            if leakyRelu:\n",
    "                cnn.add_module('relu{0}'.format(i),\n",
    "                               nn.LeakyReLU(0.2, inplace=True))\n",
    "            else:\n",
    "                cnn.add_module('relu{0}'.format(i), nn.ReLU(True))\n",
    "\n",
    "        convRelu(0)\n",
    "        cnn.add_module('pooling{0}'.format(0), nn.MaxPool2d(2, 2))  # 64 -> 32\n",
    "        convRelu(1)\n",
    "        cnn.add_module('pooling{0}'.format(1), nn.MaxPool2d(2, 2))  # 32 -> 16\n",
    "        convRelu(2, True)\n",
    "        convRelu(3)\n",
    "        cnn.add_module('pooling{0}'.format(2),\n",
    "                       nn.MaxPool2d((2, 2), (2, 1), (0, 1)))  # 16 -> 8\n",
    "        convRelu(4, True)\n",
    "        # Removed the conditional pooling based on opt.resolution==63 as it wasn't mentioned\n",
    "        # if opt.resolution==63:\n",
    "        #     cnn.add_module('pooling{0}'.format(3),\n",
    "        #                    nn.MaxPool2d((2, 2), (2, 1), (0, 1)))\n",
    "        convRelu(5)\n",
    "        cnn.add_module('pooling{0}'.format(4),\n",
    "                       nn.MaxPool2d((2, 2), (2, 1), (0, 1)))  # 8 -> 4\n",
    "        convRelu(6, True) # Input H=4 -> Output H = floor((4-2+0)/1 + 1) = 3.  Let's adjust pool4 or conv6\n",
    "        # Let's adjust Pool4 or Conv6 to ensure H=1 at the end.\n",
    "        # Option 1: Change Pool4 kernel/stride\n",
    "        # Option 2: Change Conv6 kernel/stride/padding\n",
    "        # Let's try changing Conv6 to ensure H=1 with input H=4\n",
    "        # Required output H = 1. Input H = 4.\n",
    "        # H_out = floor((H_in + 2*pad - dilation*(kernel-1) -1 ) / stride + 1)\n",
    "        # If stride=1, kernel=3, pad=0: floor((4 + 0 - 1*(2) - 1)/1 + 1) = floor(1) + 1 = 2. Incorrect.\n",
    "        # If stride=1, kernel=4, pad=0: floor((4 + 0 - 1*(3) - 1)/1 + 1) = floor(0) + 1 = 1. Correct.\n",
    "        # Let's modify the last Conv layer (layer 6)\n",
    "        cnn = nn.Sequential(*list(cnn.children())[:-3]) # Remove old conv6, bn6, relu6\n",
    "        nIn = nm[5]\n",
    "        nOut = nm[6]\n",
    "        # New Conv6 layer: ks=4, ps=0, ss=1\n",
    "        cnn.add_module('conv{0}'.format(6), nn.Conv2d(nIn, nOut, kernel_size=4, stride=1, padding=0)) # H: 4 -> 1\n",
    "        cnn.add_module('batchnorm{0}'.format(6), nn.BatchNorm2d(nOut))\n",
    "        if leakyRelu:\n",
    "             cnn.add_module('relu{0}'.format(6), nn.LeakyReLU(0.2, inplace=True))\n",
    "        else:\n",
    "             cnn.add_module('relu{0}'.format(6), nn.ReLU(True))\n",
    "\n",
    "        self.cnn = cnn\n",
    "        self.use_rnn = opt.use_rnn\n",
    "        if self.use_rnn:\n",
    "            self.rnn = nn.Sequential(\n",
    "                BidirectionalLSTM(nm[6], nh, nh), # Input size = 512\n",
    "                BidirectionalLSTM(nh, nh, opt.len_vocab))\n",
    "        else:\n",
    "            # Note: If not using RNN, the output shape might need adjustment depending on downstream task\n",
    "            self.linear = nn.Linear(nm[6], opt.len_vocab) # Input size = 512\n",
    "\n",
    "        # replace all nan/inf in gradients to zero\n",
    "        if dealwith_lossnone:\n",
    "            self.register_backward_hook(self.backward_hook)\n",
    "\n",
    "        # Initialize weights (if function exists and opt allows)\n",
    "        if hasattr(opt, 'skip_init') and not opt.skip_init:\n",
    "             self = init_weights(self, opt.OCR_init) # Pass init type if specified in opt\n",
    "\n",
    "    def forward(self, input):\n",
    "        # conv features\n",
    "        # print(f\"Input shape: {input.shape}\")\n",
    "        conv = self.cnn(input)\n",
    "        # print(f\"CNN output shape: {conv.shape}\")\n",
    "        b, c, h, w = conv.size()\n",
    "\n",
    "        # **Important Check**: After modifying Conv6, let's re-verify the height\n",
    "        # Input H=64. Pool0->32. Pool1->16. Pool2->8. Pool4->4. Conv6(k=4,s=1,p=0)->1.\n",
    "        assert h == 1, f\"ERROR: the height of conv features must be 1, but got {h}. Check CNN pooling/conv layers.\"\n",
    "\n",
    "        conv = conv.squeeze(2) # Remove height dim: [b, c, w]\n",
    "        conv = conv.permute(2, 0, 1)  # [w, b, c] - Sequence first for RNN\n",
    "\n",
    "        if self.use_rnn:\n",
    "            # rnn features\n",
    "            output = self.rnn(conv) # Output shape [w, b, num_classes]\n",
    "        else:\n",
    "            # Apply linear layer to each time step\n",
    "             output = self.linear(conv) # Output shape [w, b, num_classes]\n",
    "\n",
    "        return output # Shape: [sequence_length, batch_size, num_classes]\n",
    "\n",
    "    def backward_hook(self, module, grad_input, grad_output):\n",
    "        # print(\"Backward hook called\") # For debugging\n",
    "        for i, g in enumerate(grad_input):\n",
    "            if g is not None:\n",
    "                 # print(f\"Grad input {i} contains NaNs: {torch.isnan(g).any()}\")\n",
    "                 # print(f\"Grad input {i} contains Infs: {torch.isinf(g).any()}\")\n",
    "                 g = torch.nan_to_num(g, nan=0.0, posinf=0.0, neginf=0.0) # More robust way\n",
    "                 grad_input = list(grad_input) # grad_input is a tuple, convert to list to modify\n",
    "                 grad_input[i] = g\n",
    "                 grad_input = tuple(grad_input) # Convert back to tuple\n",
    "\n",
    "        for i, g in enumerate(grad_output):\n",
    "             if g is not None:\n",
    "                 # print(f\"Grad output {i} contains NaNs: {torch.isnan(g).any()}\")\n",
    "                 # print(f\"Grad output {i} contains Infs: {torch.isinf(g).any()}\")\n",
    "                 g = torch.nan_to_num(g, nan=0.0, posinf=0.0, neginf=0.0)\n",
    "                 grad_output = list(grad_output)\n",
    "                 grad_output[i] = g\n",
    "                 grad_output = tuple(grad_output)\n",
    "\n",
    "        return grad_input # Return modified grads"
   ]
  },
  {
   "cell_type": "code",
   "execution_count": 25,
   "metadata": {},
   "outputs": [],
   "source": [
    "class OCRLabelConverter(object):\n",
    "    \"\"\"Convert between str and label for CTC loss.\n",
    "    Inserts 'blank' (index 0). Assumes alphabet does not contain Hochkomma (`).\n",
    "    \"\"\"\n",
    "    def __init__(self, alphabet, ignore_case=False):\n",
    "        self._ignore_case = ignore_case\n",
    "        if self._ignore_case:\n",
    "            alphabet = alphabet.lower()\n",
    "        # Use a character unlikely to be in the alphabet for blank\n",
    "        self.alphabet = alphabet\n",
    "\n",
    "        self.dict = {}\n",
    "        # Assign 0 for blank\n",
    "        for i, char in enumerate(alphabet):\n",
    "             # NOTE: 0 is reserved for 'blank' required by wrap_ctc\n",
    "             self.dict[char] = i + 1 # Start indexing from 1\n",
    "\n",
    "        self.num_classes = len(alphabet) + 1 # +1 for blank\n",
    "\n",
    "    def encode(self, text):\n",
    "        \"\"\"Support batch or single str.\n",
    "        Args:\n",
    "            text (list of str): texts to convert.\n",
    "        Returns:\n",
    "            torch.IntTensor [total_length]: concatenated encoded texts.\n",
    "            torch.IntTensor [batch_size]: length of each text.\n",
    "        \"\"\"\n",
    "        if isinstance(text, str): # Handle single string case\n",
    "             text = [text]\n",
    "\n",
    "        length = []\n",
    "        result = []\n",
    "        skipped_chars = set()\n",
    "        for item in text:\n",
    "            # item = item.decode('utf-8', 'strict') # Decode if labels are bytes\n",
    "            if self._ignore_case:\n",
    "                item = item.lower()\n",
    "            current_length = 0\n",
    "            for char in item:\n",
    "                try:\n",
    "                    index = self.dict[char]\n",
    "                    result.append(index)\n",
    "                    current_length += 1\n",
    "                except KeyError:\n",
    "                    if char not in skipped_chars:\n",
    "                        tqdm.write(f\"Warning: Character '{char}' (Unicode: {ord(char)}) not in defined alphabet. Skipping.\")\n",
    "                        skipped_chars.add(char)\n",
    "                    # Handle unknown characters - skip or map to a special token if added to alphabet\n",
    "                    pass\n",
    "            length.append(current_length)\n",
    "\n",
    "        encoded_text = torch.IntTensor(result)\n",
    "        text_lengths = torch.IntTensor(length)\n",
    "        return encoded_text, text_lengths\n",
    "\n",
    "    def decode(self, encoded_sequence, sequence_lengths, raw=False):\n",
    "        \"\"\"Decode encoded texts back into strs. Handles batches.\n",
    "        Args:\n",
    "            encoded_sequence (torch.IntTensor): Can be batch * max_len or flattened.\n",
    "                                                 Assumes prediction output (integer labels).\n",
    "            sequence_lengths (torch.IntTensor): Length of each sequence in the batch.\n",
    "            raw (bool): If True, returns the raw output without removing blanks or repeats.\n",
    "        Returns:\n",
    "            list[str]: Decoded texts.\n",
    "        \"\"\"\n",
    "        texts = []\n",
    "        current_index = 0\n",
    "        for i in range(sequence_lengths.numel()): # Iterate through batch items\n",
    "            length = sequence_lengths[i]\n",
    "            if encoded_sequence.dim() == 2: # If input is (batch, max_len)\n",
    "                t = encoded_sequence[i, :length]\n",
    "            else: # Assumes flattened input\n",
    "                t = encoded_sequence[current_index : current_index + length]\n",
    "\n",
    "            if raw:\n",
    "                 # Map indices back to characters, skipping blank (index 0) if needed\n",
    "                 chars = [self.alphabet[idx - 1] for idx in t if idx > 0 and idx <= len(self.alphabet)]\n",
    "                 texts.append(''.join(chars))\n",
    "            else:\n",
    "                # CTC decoding: remove repeats and blanks\n",
    "                char_list = []\n",
    "                for j in range(length):\n",
    "                    # Check if valid index (not blank) and different from previous char\n",
    "                    if t[j] != 0 and (j == 0 or t[j-1] != t[j]):\n",
    "                         if t[j] <= len(self.alphabet): # Ensure index is within alphabet bounds\n",
    "                              char_list.append(self.alphabet[t[j] - 1]) # -1 because dict index starts at 1\n",
    "                         else:\n",
    "                              print(f\"Warning: Decoded index {t[j]} out of alphabet range (max={len(self.alphabet)}). Skipping.\")\n",
    "\n",
    "                texts.append(''.join(char_list))\n",
    "            current_index += length # Move index only if input is flattened\n",
    "\n",
    "        return texts"
   ]
  },
  {
   "cell_type": "code",
   "execution_count": 26,
   "metadata": {},
   "outputs": [],
   "source": [
    "def decode_predictions(preds, converter):\n",
    "    \"\"\"Greedy decodes the output of the CRNN model.\"\"\"\n",
    "    # preds shape: [sequence_length, batch_size, num_classes]\n",
    "    preds = F.log_softmax(preds, dim=2) # Apply log_softmax for CTC\n",
    "    preds = preds.permute(1, 0, 2) # Switch to [batch_size, sequence_length, num_classes]\n",
    "\n",
    "    # Greedy decode: take the argmax at each time step\n",
    "    pred_indices = torch.argmax(preds, dim=2) # [batch_size, sequence_length]\n",
    "\n",
    "    # Calculate sequence lengths for decoding (it's the full CNN output width)\n",
    "    batch_size, seq_len = pred_indices.shape\n",
    "    input_lengths = torch.full(size=(batch_size,), fill_value=seq_len, dtype=torch.long)\n",
    "\n",
    "    # Decode using the converter (removes repeats and blanks)\n",
    "    decoded_texts = converter.decode(pred_indices, input_lengths, raw=False)\n",
    "    return decoded_texts"
   ]
  },
  {
   "cell_type": "code",
   "execution_count": 27,
   "metadata": {},
   "outputs": [],
   "source": [
    "import Levenshtein # For CER/WER calculation\n",
    "\n",
    "def calculate_cer(preds, targets):\n",
    "    total_edit_distance = 0\n",
    "    total_target_length = 0\n",
    "\n",
    "    if len(preds) != len(targets):\n",
    "        raise ValueError(\"Prediction and target lists must have the same length.\")\n",
    "\n",
    "    for pred, target in zip(preds, targets):\n",
    "        # Calculate Levenshtein distance between character sequences\n",
    "        distance = Levenshtein.distance(pred, target)\n",
    "        total_edit_distance += distance\n",
    "        total_target_length += len(target) # Normalize by target length\n",
    "\n",
    "    if total_target_length == 0:\n",
    "        return 0.0 # Avoid division by zero if all targets are empty\n",
    "\n",
    "    cer = total_edit_distance / total_target_length\n",
    "    return cer\n",
    "\n",
    "def calculate_wer(preds, targets):\n",
    "    total_edit_distance = 0\n",
    "    total_target_words = 0\n",
    "\n",
    "    if len(preds) != len(targets):\n",
    "        raise ValueError(\"Prediction and target lists must have the same length.\")\n",
    "\n",
    "    for pred, target in zip(preds, targets):\n",
    "        # Split strings into words (simple whitespace splitting)\n",
    "        pred_words = pred.split()\n",
    "        target_words = target.split()\n",
    "\n",
    "        # Calculate Levenshtein distance between word sequences\n",
    "        # Levenshtein.distance works on sequences, so lists of words are fine\n",
    "        distance = Levenshtein.distance(pred_words, target_words)\n",
    "        total_edit_distance += distance\n",
    "        total_target_words += len(target_words) # Normalize by target word count\n",
    "\n",
    "    if total_target_words == 0:\n",
    "        return 0.0 # Avoid division by zero\n",
    "\n",
    "    wer = total_edit_distance / total_target_words\n",
    "    return wer"
   ]
  },
  {
   "cell_type": "markdown",
   "metadata": {},
   "source": [
    "## Training"
   ]
  },
  {
   "cell_type": "code",
   "execution_count": 28,
   "metadata": {},
   "outputs": [],
   "source": [
    "class TrainOptions:\n",
    "    def __init__(self):\n",
    "        # Data params\n",
    "        self.imgH = 64\n",
    "        self.imgW = 704 # Padded width\n",
    "        self.input_nc = 1 # Grayscale images\n",
    "\n",
    "        # Model params\n",
    "        self.hidden_size_OCR = 256 # Number of hidden units in LSTM\n",
    "        self.use_rnn = True # Use LSTM layers\n",
    "        self.OCR_init = 'kaiming' # Weight initialization\n",
    "        self.skip_init = False # Perform weight initialization\n",
    "        self.leakyRelu = False # Use ReLU instead of LeakyReLU\n",
    "        self.dealwith_lossnone = True # Handle NaN/Inf gradients\n",
    "\n",
    "        # Training params\n",
    "        self.batch_size = 64 # Adjust based on P100 memory (32 or 64 might work)\n",
    "        self.epochs = 50\n",
    "        self.lr = 0.0005\n",
    "        self.gpu_ids = [0] # Use the first GPU\n",
    "        self.seed = 1234\n",
    "        self.max_label_length = 32 # Your specified max label length\n",
    "\n",
    "        # Alphabet and Vocab\n",
    "        self.alphabet = HINDI_ALPHABET\n",
    "        self.len_vocab = len(self.alphabet) + 1 # Classes + blank\n",
    "\n",
    "        # Paths (Adapt for Kaggle)\n",
    "        self.checkpoint_dir = './checkpoints' # Where to save models\n",
    "        self.experiment_name = 'hindi_ocr_crnn'"
   ]
  },
  {
   "cell_type": "code",
   "execution_count": 29,
   "metadata": {},
   "outputs": [
    {
     "name": "stdout",
     "output_type": "stream",
     "text": [
      "Training Options: {'imgH': 64, 'imgW': 704, 'input_nc': 1, 'hidden_size_OCR': 256, 'use_rnn': True, 'OCR_init': 'kaiming', 'skip_init': False, 'leakyRelu': False, 'dealwith_lossnone': True, 'batch_size': 64, 'epochs': 50, 'lr': 0.0005, 'gpu_ids': [0], 'seed': 1234, 'max_label_length': 32, 'alphabet': '-ँंःअआइईउऊएऐओऔकखगघङचछजझञटठडढणतथदधनपफबभमयरलवशषसह़ािीुूृेैॉोौ्ज़ड़ढ़।०१२३४५६७८९', 'len_vocab': 75, 'checkpoint_dir': './checkpoints', 'experiment_name': 'hindi_ocr_crnn'}\n"
     ]
    }
   ],
   "source": [
    "opt = TrainOptions()\n",
    "print(\"Training Options:\", vars(opt))"
   ]
  },
  {
   "cell_type": "code",
   "execution_count": 30,
   "metadata": {},
   "outputs": [
    {
     "name": "stdout",
     "output_type": "stream",
     "text": [
      "Using GPU: NVIDIA A100-SXM4-80GB\n"
     ]
    }
   ],
   "source": [
    "# Set random seed for reproducibility\n",
    "torch.manual_seed(opt.seed)\n",
    "if torch.cuda.is_available():\n",
    "    torch.cuda.manual_seed_all(opt.seed)\n",
    "\n",
    "# Setup device (GPU if available)\n",
    "if opt.gpu_ids and torch.cuda.is_available():\n",
    "    device = torch.device(f'cuda:{opt.gpu_ids[0]}')\n",
    "    print(f\"Using GPU: {torch.cuda.get_device_name(opt.gpu_ids[0])}\")\n",
    "else:\n",
    "    device = torch.device('cpu')\n",
    "    print(\"Using CPU\")"
   ]
  },
  {
   "cell_type": "code",
   "execution_count": 31,
   "metadata": {},
   "outputs": [
    {
     "name": "stdout",
     "output_type": "stream",
     "text": [
      "initialize network with kaiming\n",
      "\n",
      "Model Architecture:\n",
      "CRNN(\n",
      "  (cnn): Sequential(\n",
      "    (0): Conv2d(1, 64, kernel_size=(3, 3), stride=(1, 1), padding=(1, 1))\n",
      "    (1): ReLU(inplace=True)\n",
      "    (2): MaxPool2d(kernel_size=2, stride=2, padding=0, dilation=1, ceil_mode=False)\n",
      "    (3): Conv2d(64, 128, kernel_size=(3, 3), stride=(1, 1), padding=(1, 1))\n",
      "    (4): ReLU(inplace=True)\n",
      "    (5): MaxPool2d(kernel_size=2, stride=2, padding=0, dilation=1, ceil_mode=False)\n",
      "    (6): Conv2d(128, 256, kernel_size=(3, 3), stride=(1, 1), padding=(1, 1))\n",
      "    (7): BatchNorm2d(256, eps=1e-05, momentum=0.1, affine=True, track_running_stats=True)\n",
      "    (8): ReLU(inplace=True)\n",
      "    (9): Conv2d(256, 256, kernel_size=(3, 3), stride=(1, 1), padding=(1, 1))\n",
      "    (10): ReLU(inplace=True)\n",
      "    (11): MaxPool2d(kernel_size=(2, 2), stride=(2, 1), padding=(0, 1), dilation=1, ceil_mode=False)\n",
      "    (12): Conv2d(256, 512, kernel_size=(3, 3), stride=(1, 1), padding=(1, 1))\n",
      "    (13): BatchNorm2d(512, eps=1e-05, momentum=0.1, affine=True, track_running_stats=True)\n",
      "    (14): ReLU(inplace=True)\n",
      "    (15): Conv2d(512, 512, kernel_size=(3, 3), stride=(1, 1), padding=(1, 1))\n",
      "    (16): ReLU(inplace=True)\n",
      "    (17): MaxPool2d(kernel_size=(2, 2), stride=(2, 1), padding=(0, 1), dilation=1, ceil_mode=False)\n",
      "    (conv6): Conv2d(512, 512, kernel_size=(4, 4), stride=(1, 1))\n",
      "    (batchnorm6): BatchNorm2d(512, eps=1e-05, momentum=0.1, affine=True, track_running_stats=True)\n",
      "    (relu6): ReLU(inplace=True)\n",
      "  )\n",
      "  (rnn): Sequential(\n",
      "    (0): BidirectionalLSTM(\n",
      "      (rnn): LSTM(512, 256, bidirectional=True)\n",
      "      (embedding): Linear(in_features=512, out_features=256, bias=True)\n",
      "    )\n",
      "    (1): BidirectionalLSTM(\n",
      "      (rnn): LSTM(256, 256, bidirectional=True)\n",
      "      (embedding): Linear(in_features=512, out_features=75, bias=True)\n",
      "    )\n",
      "  )\n",
      ")\n",
      "Number of trainable parameters: 11,496,523\n"
     ]
    }
   ],
   "source": [
    "converter = OCRLabelConverter(opt.alphabet)\n",
    "opt.len_vocab = converter.num_classes # Update opt with correct num_classes (+1 for blank)\n",
    "\n",
    "model = CRNN(opt).to(device)\n",
    "print(\"\\nModel Architecture:\")\n",
    "print(model)\n",
    "num_params = sum(p.numel() for p in model.parameters() if p.requires_grad)\n",
    "print(f\"Number of trainable parameters: {num_params:,}\")\n",
    "\n",
    "\n",
    "# CTC Loss - blank=0 is conventional, zero_infinity helps stability\n",
    "criterion = nn.CTCLoss(blank=0, reduction='mean', zero_infinity=True)\n",
    "criterion.to(device)\n",
    "\n",
    "# Optimizer - AdamW is often preferred over Adam\n",
    "optimizer = optim.AdamW(model.parameters(), lr=opt.lr, weight_decay=0.01)"
   ]
  },
  {
   "cell_type": "code",
   "execution_count": 20,
   "metadata": {},
   "outputs": [
    {
     "name": "stdout",
     "output_type": "stream",
     "text": [
      "Requirement already satisfied: ipywidgets in /opt/conda/lib/python3.11/site-packages (8.1.5)\n",
      "Requirement already satisfied: tqdm in /opt/conda/lib/python3.11/site-packages (4.67.1)\n",
      "Requirement already satisfied: comm>=0.1.3 in /opt/conda/lib/python3.11/site-packages (from ipywidgets) (0.2.2)\n",
      "Requirement already satisfied: ipython>=6.1.0 in /opt/conda/lib/python3.11/site-packages (from ipywidgets) (8.31.0)\n",
      "Requirement already satisfied: traitlets>=4.3.1 in /opt/conda/lib/python3.11/site-packages (from ipywidgets) (5.14.3)\n",
      "Requirement already satisfied: widgetsnbextension~=4.0.12 in /opt/conda/lib/python3.11/site-packages (from ipywidgets) (4.0.13)\n",
      "Requirement already satisfied: jupyterlab-widgets~=3.0.12 in /opt/conda/lib/python3.11/site-packages (from ipywidgets) (3.0.13)\n",
      "Requirement already satisfied: decorator in /opt/conda/lib/python3.11/site-packages (from ipython>=6.1.0->ipywidgets) (5.1.1)\n",
      "Requirement already satisfied: jedi>=0.16 in /opt/conda/lib/python3.11/site-packages (from ipython>=6.1.0->ipywidgets) (0.19.2)\n",
      "Requirement already satisfied: matplotlib-inline in /opt/conda/lib/python3.11/site-packages (from ipython>=6.1.0->ipywidgets) (0.1.7)\n",
      "Requirement already satisfied: pexpect>4.3 in /opt/conda/lib/python3.11/site-packages (from ipython>=6.1.0->ipywidgets) (4.9.0)\n",
      "Requirement already satisfied: prompt_toolkit<3.1.0,>=3.0.41 in /opt/conda/lib/python3.11/site-packages (from ipython>=6.1.0->ipywidgets) (3.0.50)\n",
      "Requirement already satisfied: pygments>=2.4.0 in /opt/conda/lib/python3.11/site-packages (from ipython>=6.1.0->ipywidgets) (2.19.1)\n",
      "Requirement already satisfied: stack_data in /opt/conda/lib/python3.11/site-packages (from ipython>=6.1.0->ipywidgets) (0.6.3)\n",
      "Requirement already satisfied: typing_extensions>=4.6 in /opt/conda/lib/python3.11/site-packages (from ipython>=6.1.0->ipywidgets) (4.12.2)\n",
      "Requirement already satisfied: parso<0.9.0,>=0.8.4 in /opt/conda/lib/python3.11/site-packages (from jedi>=0.16->ipython>=6.1.0->ipywidgets) (0.8.4)\n",
      "Requirement already satisfied: ptyprocess>=0.5 in /opt/conda/lib/python3.11/site-packages (from pexpect>4.3->ipython>=6.1.0->ipywidgets) (0.7.0)\n",
      "Requirement already satisfied: wcwidth in /opt/conda/lib/python3.11/site-packages (from prompt_toolkit<3.1.0,>=3.0.41->ipython>=6.1.0->ipywidgets) (0.2.13)\n",
      "Requirement already satisfied: executing>=1.2.0 in /opt/conda/lib/python3.11/site-packages (from stack_data->ipython>=6.1.0->ipywidgets) (2.1.0)\n",
      "Requirement already satisfied: asttokens>=2.1.0 in /opt/conda/lib/python3.11/site-packages (from stack_data->ipython>=6.1.0->ipywidgets) (3.0.0)\n",
      "Requirement already satisfied: pure_eval in /opt/conda/lib/python3.11/site-packages (from stack_data->ipython>=6.1.0->ipywidgets) (0.2.3)\n",
      "\u001b[33mWARNING: Running pip as the 'root' user can result in broken permissions and conflicting behaviour with the system package manager, possibly rendering your system unusable.It is recommended to use a virtual environment instead: https://pip.pypa.io/warnings/venv. Use the --root-user-action option if you know what you are doing and want to suppress this warning.\u001b[0m\u001b[33m\n",
      "\u001b[0m"
     ]
    }
   ],
   "source": [
    "# !pip install --upgrade ipywidgets tqdm\n",
    "# from tqdm.notebook import tqdm # Force notebook version\n",
    "# import ipywidgets # Check install"
   ]
  },
  {
   "cell_type": "code",
   "execution_count": 21,
   "metadata": {},
   "outputs": [
    {
     "name": "stdout",
     "output_type": "stream",
     "text": [
      "\n",
      "Starting Training...\n",
      "\n",
      "===== Starting Epoch 1/50 =====\n"
     ]
    },
    {
     "name": "stderr",
     "output_type": "stream",
     "text": [
      "Epoch 1 Training:   0%|                                                                     | 0/2813 [00:00<?, ?batch/s]"
     ]
    },
    {
     "name": "stdout",
     "output_type": "stream",
     "text": [
      "Train Label: पिछलगे\n"
     ]
    },
    {
     "data": {
      "image/png": "[encoded data removed]",
      "text/plain": [
       "<Figure size 640x480 with 1 Axes>"
      ]
     },
     "metadata": {},
     "output_type": "display_data"
    },
    {
     "name": "stderr",
     "output_type": "stream",
     "text": [
      "/opt/conda/lib/python3.11/site-packages/torch/nn/modules/module.py:1830: FutureWarning: Using a non-full backward hook when the forward contains multiple autograd Nodes is deprecated and will be removed in future versions. This hook will be missing some grad_input. Please use register_full_backward_hook to get the documented behavior.\n",
      "  self._maybe_warn_non_full_backward_hook(args, result, grad_fn)\n",
      "                                                                                                                        "
     ]
    },
    {
     "name": "stdout",
     "output_type": "stream",
     "text": [
      "--- Epoch 1 Training Finished. Average Loss: 0.4961 ---\n"
     ]
    },
    {
     "name": "stderr",
     "output_type": "stream",
     "text": [
      "Epoch 1 Validation:   0%|                                                       | 0/313 [00:00<?, ?batch/s, loss=0.0311]"
     ]
    },
    {
     "name": "stdout",
     "output_type": "stream",
     "text": [
      "\n",
      "--- Validation Batch 0 Samples ---\n"
     ]
    },
    {
     "data": {
      "image/png": "[encoded data removed]",
      "text/plain": [
       "<Figure size 640x480 with 1 Axes>"
      ]
     },
     "metadata": {},
     "output_type": "display_data"
    },
    {
     "name": "stdout",
     "output_type": "stream",
     "text": [
      "  True Label:    'अकालपक्व'\n",
      "  Predicted Label: 'अकालपक्व'\n",
      "--------------------\n"
     ]
    },
    {
     "data": {
      "image/png": "[encoded data removed]",
      "text/plain": [
       "<Figure size 640x480 with 1 Axes>"
      ]
     },
     "metadata": {},
     "output_type": "display_data"
    },
    {
     "name": "stderr",
     "output_type": "stream",
     "text": [
      "Epoch 1 Validation:   0%|▏                                              | 1/313 [00:00<02:47,  1.86batch/s, loss=0.0068]"
     ]
    },
    {
     "name": "stdout",
     "output_type": "stream",
     "text": [
      "  True Label:    'ओगरे'\n",
      "  Predicted Label: 'ओगरे'\n",
      "--------------------\n",
      "--- End Validation Batch 0 Samples ---\n",
      "\n"
     ]
    },
    {
     "name": "stderr",
     "output_type": "stream",
     "text": [
      "                                                                                                                        "
     ]
    },
    {
     "name": "stdout",
     "output_type": "stream",
     "text": [
      "--- Validation Epoch 1: Avg Loss: 0.0159, CER: 0.0034, WER: 0.0204 ---\n",
      "\n",
      "===== Starting Epoch 2/50 =====\n"
     ]
    },
    {
     "name": "stderr",
     "output_type": "stream",
     "text": [
      "Epoch 2 Training:   0%|                                                                     | 0/2813 [00:00<?, ?batch/s]"
     ]
    },
    {
     "name": "stdout",
     "output_type": "stream",
     "text": [
      "Train Label: दिखाकर\n"
     ]
    },
    {
     "data": {
      "image/png": "[encoded data removed]",
      "text/plain": [
       "<Figure size 640x480 with 1 Axes>"
      ]
     },
     "metadata": {},
     "output_type": "display_data"
    },
    {
     "name": "stderr",
     "output_type": "stream",
     "text": [
      "                                                                                                                        "
     ]
    },
    {
     "name": "stdout",
     "output_type": "stream",
     "text": [
      "--- Epoch 2 Training Finished. Average Loss: 0.0112 ---\n"
     ]
    },
    {
     "name": "stderr",
     "output_type": "stream",
     "text": [
      "Epoch 2 Validation:   0%|                                                       | 0/313 [00:00<?, ?batch/s, loss=0.0021]"
     ]
    },
    {
     "name": "stdout",
     "output_type": "stream",
     "text": [
      "\n",
      "--- Validation Batch 0 Samples ---\n"
     ]
    },
    {
     "data": {
      "image/png": "[encoded data removed]",
      "text/plain": [
       "<Figure size 640x480 with 1 Axes>"
      ]
     },
     "metadata": {},
     "output_type": "display_data"
    },
    {
     "name": "stdout",
     "output_type": "stream",
     "text": [
      "  True Label:    'तपाइए'\n",
      "  Predicted Label: 'तपाइए'\n",
      "--------------------\n"
     ]
    },
    {
     "data": {
      "image/png": "[encoded data removed]",
      "text/plain": [
       "<Figure size 640x480 with 1 Axes>"
      ]
     },
     "metadata": {},
     "output_type": "display_data"
    },
    {
     "name": "stderr",
     "output_type": "stream",
     "text": [
      "Epoch 2 Validation:   0%|▏                                              | 1/313 [00:00<02:41,  1.94batch/s, loss=0.0035]"
     ]
    },
    {
     "name": "stdout",
     "output_type": "stream",
     "text": [
      "  True Label:    'नीर'\n",
      "  Predicted Label: 'नीर'\n",
      "--------------------\n",
      "--- End Validation Batch 0 Samples ---\n",
      "\n"
     ]
    },
    {
     "name": "stderr",
     "output_type": "stream",
     "text": [
      "                                                                                                                        "
     ]
    },
    {
     "name": "stdout",
     "output_type": "stream",
     "text": [
      "--- Validation Epoch 2: Avg Loss: 0.0127, CER: 0.0043, WER: 0.0255 ---\n",
      "\n",
      "===== Starting Epoch 3/50 =====\n"
     ]
    },
    {
     "name": "stderr",
     "output_type": "stream",
     "text": [
      "Epoch 3 Training:   0%|                                                                     | 0/2813 [00:00<?, ?batch/s]"
     ]
    },
    {
     "name": "stdout",
     "output_type": "stream",
     "text": [
      "Train Label: कुमुदिनीपति\n"
     ]
    },
    {
     "data": {
      "image/png": "[encoded data removed]",
      "text/plain": [
       "<Figure size 640x480 with 1 Axes>"
      ]
     },
     "metadata": {},
     "output_type": "display_data"
    },
    {
     "name": "stderr",
     "output_type": "stream",
     "text": [
      "                                                                                                                        "
     ]
    },
    {
     "name": "stdout",
     "output_type": "stream",
     "text": [
      "--- Epoch 3 Training Finished. Average Loss: 0.0070 ---\n"
     ]
    },
    {
     "name": "stderr",
     "output_type": "stream",
     "text": [
      "Epoch 3 Validation:   0%|                                                       | 0/313 [00:00<?, ?batch/s, loss=0.0095]"
     ]
    },
    {
     "name": "stdout",
     "output_type": "stream",
     "text": [
      "\n",
      "--- Validation Batch 0 Samples ---\n"
     ]
    },
    {
     "data": {
      "image/png": "[encoded data removed]",
      "text/plain": [
       "<Figure size 640x480 with 1 Axes>"
      ]
     },
     "metadata": {},
     "output_type": "display_data"
    },
    {
     "name": "stdout",
     "output_type": "stream",
     "text": [
      "  True Label:    'झुकी'\n",
      "  Predicted Label: 'झुकी'\n",
      "--------------------\n"
     ]
    },
    {
     "data": {
      "image/png": "[encoded data removed]",
      "text/plain": [
       "<Figure size 640x480 with 1 Axes>"
      ]
     },
     "metadata": {},
     "output_type": "display_data"
    },
    {
     "name": "stderr",
     "output_type": "stream",
     "text": [
      "Epoch 3 Validation:   0%|▏                                              | 1/313 [00:00<02:41,  1.94batch/s, loss=0.0247]"
     ]
    },
    {
     "name": "stdout",
     "output_type": "stream",
     "text": [
      "  True Label:    'विचारती'\n",
      "  Predicted Label: 'विचारती'\n",
      "--------------------\n",
      "--- End Validation Batch 0 Samples ---\n",
      "\n"
     ]
    },
    {
     "name": "stderr",
     "output_type": "stream",
     "text": [
      "                                                                                                                        "
     ]
    },
    {
     "name": "stdout",
     "output_type": "stream",
     "text": [
      "--- Validation Epoch 3: Avg Loss: 0.0188, CER: 0.0030, WER: 0.0182 ---\n",
      "\n",
      "===== Starting Epoch 4/50 =====\n"
     ]
    },
    {
     "name": "stderr",
     "output_type": "stream",
     "text": [
      "Epoch 4 Training:   0%|                                                                     | 0/2813 [00:00<?, ?batch/s]"
     ]
    },
    {
     "name": "stdout",
     "output_type": "stream",
     "text": [
      "Train Label: क्लमल\n"
     ]
    },
    {
     "data": {
      "image/png": "[encoded data removed]",
      "text/plain": [
       "<Figure size 640x480 with 1 Axes>"
      ]
     },
     "metadata": {},
     "output_type": "display_data"
    },
    {
     "name": "stderr",
     "output_type": "stream",
     "text": [
      "                                                                                                                        "
     ]
    },
    {
     "name": "stdout",
     "output_type": "stream",
     "text": [
      "--- Epoch 4 Training Finished. Average Loss: 0.0057 ---\n"
     ]
    },
    {
     "name": "stderr",
     "output_type": "stream",
     "text": [
      "Epoch 4 Validation:   0%|                                                       | 0/313 [00:00<?, ?batch/s, loss=0.0009]"
     ]
    },
    {
     "name": "stdout",
     "output_type": "stream",
     "text": [
      "\n",
      "--- Validation Batch 0 Samples ---\n"
     ]
    },
    {
     "data": {
      "image/png": "[encoded data removed]",
      "text/plain": [
       "<Figure size 640x480 with 1 Axes>"
      ]
     },
     "metadata": {},
     "output_type": "display_data"
    },
    {
     "name": "stdout",
     "output_type": "stream",
     "text": [
      "  True Label:    'मोठियावाली'\n",
      "  Predicted Label: 'मोठियावाली'\n",
      "--------------------\n"
     ]
    },
    {
     "data": {
      "image/png": "[encoded data removed]",
      "text/plain": [
       "<Figure size 640x480 with 1 Axes>"
      ]
     },
     "metadata": {},
     "output_type": "display_data"
    },
    {
     "name": "stderr",
     "output_type": "stream",
     "text": [
      "Epoch 4 Validation:   0%|▏                                              | 1/313 [00:00<02:43,  1.91batch/s, loss=0.0005]"
     ]
    },
    {
     "name": "stdout",
     "output_type": "stream",
     "text": [
      "  True Label:    'वैदही'\n",
      "  Predicted Label: 'वैदही'\n",
      "--------------------\n",
      "--- End Validation Batch 0 Samples ---\n",
      "\n"
     ]
    },
    {
     "name": "stderr",
     "output_type": "stream",
     "text": [
      "                                                                                                                        "
     ]
    },
    {
     "name": "stdout",
     "output_type": "stream",
     "text": [
      "--- Validation Epoch 4: Avg Loss: 0.0028, CER: 0.0006, WER: 0.0036 ---\n",
      "\n",
      "===== Starting Epoch 5/50 =====\n"
     ]
    },
    {
     "name": "stderr",
     "output_type": "stream",
     "text": [
      "Epoch 5 Training:   0%|                                                                     | 0/2813 [00:00<?, ?batch/s]"
     ]
    },
    {
     "name": "stdout",
     "output_type": "stream",
     "text": [
      "Train Label: मणिपुरवासिनी\n"
     ]
    },
    {
     "data": {
      "image/png": "[encoded data removed]",
      "text/plain": [
       "<Figure size 640x480 with 1 Axes>"
      ]
     },
     "metadata": {},
     "output_type": "display_data"
    },
    {
     "name": "stderr",
     "output_type": "stream",
     "text": [
      "                                                                                                                        "
     ]
    },
    {
     "name": "stdout",
     "output_type": "stream",
     "text": [
      "--- Epoch 5 Training Finished. Average Loss: 0.0047 ---\n"
     ]
    },
    {
     "name": "stderr",
     "output_type": "stream",
     "text": [
      "Epoch 5 Validation:   0%|                                                       | 0/313 [00:00<?, ?batch/s, loss=0.0051]"
     ]
    },
    {
     "name": "stdout",
     "output_type": "stream",
     "text": [
      "\n",
      "--- Validation Batch 0 Samples ---\n"
     ]
    },
    {
     "data": {
      "image/png": "[encoded data removed]",
      "text/plain": [
       "<Figure size 640x480 with 1 Axes>"
      ]
     },
     "metadata": {},
     "output_type": "display_data"
    },
    {
     "name": "stdout",
     "output_type": "stream",
     "text": [
      "  True Label:    'टनटनाने'\n",
      "  Predicted Label: 'टनटनाने'\n",
      "--------------------\n"
     ]
    },
    {
     "data": {
      "image/png": "[encoded data removed]",
      "text/plain": [
       "<Figure size 640x480 with 1 Axes>"
      ]
     },
     "metadata": {},
     "output_type": "display_data"
    },
    {
     "name": "stderr",
     "output_type": "stream",
     "text": [
      "Epoch 5 Validation:   0%|▏                                              | 1/313 [00:00<02:43,  1.90batch/s, loss=0.0004]"
     ]
    },
    {
     "name": "stdout",
     "output_type": "stream",
     "text": [
      "  True Label:    'डिक्शनरी'\n",
      "  Predicted Label: 'डिक्शनरी'\n",
      "--------------------\n",
      "--- End Validation Batch 0 Samples ---\n",
      "\n"
     ]
    },
    {
     "name": "stderr",
     "output_type": "stream",
     "text": [
      "                                                                                                                        "
     ]
    },
    {
     "name": "stdout",
     "output_type": "stream",
     "text": [
      "--- Validation Epoch 5: Avg Loss: 0.0059, CER: 0.0016, WER: 0.0097 ---\n",
      "Checkpoint saved to ./checkpoints/hindi_ocr_crnn/model_epoch_5.pth\n",
      "\n",
      "===== Starting Epoch 6/50 =====\n"
     ]
    },
    {
     "name": "stderr",
     "output_type": "stream",
     "text": [
      "Epoch 6 Training:   0%|                                                                     | 0/2813 [00:00<?, ?batch/s]"
     ]
    },
    {
     "name": "stdout",
     "output_type": "stream",
     "text": [
      "Train Label: जतलवाए\n"
     ]
    },
    {
     "data": {
      "image/png": "[encoded data removed]",
      "text/plain": [
       "<Figure size 640x480 with 1 Axes>"
      ]
     },
     "metadata": {},
     "output_type": "display_data"
    },
    {
     "name": "stderr",
     "output_type": "stream",
     "text": [
      "                                                                                                                        "
     ]
    },
    {
     "ename": "KeyboardInterrupt",
     "evalue": "",
     "output_type": "error",
     "traceback": [
      "\u001b[0;31m---------------------------------------------------------------------------\u001b[0m",
      "\u001b[0;31mKeyboardInterrupt\u001b[0m                         Traceback (most recent call last)",
      "Cell \u001b[0;32mIn[21], line 87\u001b[0m\n\u001b[1;32m     84\u001b[0m torch\u001b[38;5;241m.\u001b[39mnn\u001b[38;5;241m.\u001b[39mutils\u001b[38;5;241m.\u001b[39mclip_grad_norm_(model\u001b[38;5;241m.\u001b[39mparameters(), max_norm\u001b[38;5;241m=\u001b[39m\u001b[38;5;241m5.0\u001b[39m)\n\u001b[1;32m     85\u001b[0m optimizer\u001b[38;5;241m.\u001b[39mstep()\n\u001b[0;32m---> 87\u001b[0m current_loss \u001b[38;5;241m=\u001b[39m \u001b[43mloss\u001b[49m\u001b[38;5;241;43m.\u001b[39;49m\u001b[43mitem\u001b[49m\u001b[43m(\u001b[49m\u001b[43m)\u001b[49m\n\u001b[1;32m     88\u001b[0m epoch_loss \u001b[38;5;241m+\u001b[39m\u001b[38;5;241m=\u001b[39m current_loss\n\u001b[1;32m     89\u001b[0m processed_batches_train \u001b[38;5;241m+\u001b[39m\u001b[38;5;241m=\u001b[39m \u001b[38;5;241m1\u001b[39m \u001b[38;5;66;03m# Count successful batches\u001b[39;00m\n",
      "\u001b[0;31mKeyboardInterrupt\u001b[0m: "
     ]
    }
   ],
   "source": [
    "from tqdm import tqdm # Force standard console version\n",
    "print(\"\\nStarting Training...\")\n",
    "\n",
    "for epoch in range(opt.epochs):\n",
    "    print(f\"\\n===== Starting Epoch {epoch+1}/{opt.epochs} =====\") # Add separator\n",
    "\n",
    "    # --- Training Phase ---\n",
    "    model.train()\n",
    "    epoch_loss = 0.0\n",
    "    processed_batches_train = 0\n",
    "\n",
    "    # Use 'with' statement for automatic closing, matching the working example\n",
    "    # Use leave=False, matching the working example (bar disappears after loop)\n",
    "    with tqdm(enumerate(train_loader),\n",
    "              total=len(train_loader),\n",
    "              desc=f\"Epoch {epoch+1} Training\",\n",
    "              leave=False, # Bar disappears after loop\n",
    "              unit=\"batch\") as batch_pbar: # Assign the tqdm object to batch_pbar\n",
    "\n",
    "        for i, (words, sizes, chunks) in batch_pbar:\n",
    "            # Prepare data\n",
    "            images = chunks.to(device, non_blocking=True)\n",
    "            num_chunks = images.shape[1]\n",
    "            images = torch.cat([images[:, c_idx] for c_idx in range(num_chunks)], dim=2).unsqueeze(1)\n",
    "            labels_str = [l.decode('utf-8') if isinstance(l, bytes) else l for l in words[0]]\n",
    "\n",
    "            if not labels_str or images.numel() == 0:\n",
    "                 # Use tqdm.write to avoid breaking the bar display\n",
    "                 tqdm.write(f\"Warning (Train Batch {i}): Empty batch data/image. Skipping.\")\n",
    "                 continue\n",
    "\n",
    "            encoded_texts, text_lengths = converter.encode(labels_str)\n",
    "            encoded_texts = encoded_texts.to(device)\n",
    "            text_lengths = text_lengths.to(device)\n",
    "\n",
    "            # Zero gradients\n",
    "            optimizer.zero_grad(set_to_none=True)\n",
    "\n",
    "            # Inside the training loop (temporarily)\n",
    "            if i < 1: # Show first 5 batches\n",
    "                import matplotlib.pyplot as plt\n",
    "                plt.imshow(images[0].squeeze().cpu().numpy(), cmap='gray') # Adjust indexing/squeeze as needed\n",
    "                print(f\"Train Label: {labels_str[0]}\")\n",
    "                plt.show()\n",
    "            # Do similarly in the validation loop\n",
    "\n",
    "            # Forward pass\n",
    "            try:\n",
    "                outputs = model(images) # [W, B, C]\n",
    "            except Exception as e:\n",
    "                tqdm.write(f\"Error during forward pass (Train Batch {i}): {e}. Skipping.\")\n",
    "                continue\n",
    "\n",
    "            # Prepare for CTC loss\n",
    "            seq_len, batch_size_actual, _ = outputs.shape\n",
    "            if batch_size_actual != len(labels_str):\n",
    "                 tqdm.write(f\"Warning (Train Batch {i}): Batch size mismatch! Model B={batch_size_actual}, Labels B={len(labels_str)}. Skipping.\")\n",
    "                 continue\n",
    "            input_lengths = torch.full(size=(batch_size_actual,), fill_value=seq_len, dtype=torch.long, device=device)\n",
    "            log_probs = F.log_softmax(outputs, dim=2)\n",
    "\n",
    "            # Calculate loss (add robust error handling)\n",
    "            try:\n",
    "                # Pre-checks for CTC\n",
    "                if torch.any(text_lengths <= 0):\n",
    "                     tqdm.write(f\"Warning (Train Batch {i}): Invalid target length <=0. Skipping loss calc.\")\n",
    "                     continue\n",
    "                if encoded_texts.shape[0] != text_lengths.sum():\n",
    "                     tqdm.write(f\"Warning (Train Batch {i}): Encoded text length ({encoded_texts.shape[0]}) != sum(text_lengths) ({text_lengths.sum()}). Skipping loss calc.\")\n",
    "                     continue\n",
    "                if torch.any(input_lengths <= text_lengths):\n",
    "                     problem_indices = torch.where(input_lengths <= text_lengths)[0]\n",
    "                     tqdm.write(f\"Warning (Train Batch {i}): Input length <= Target length for indices {problem_indices.tolist()}. Input: {input_lengths[problem_indices]}, Target: {text_lengths[problem_indices]}. Skipping loss calc.\")\n",
    "                     continue\n",
    "\n",
    "                loss = criterion(log_probs, encoded_texts, input_lengths, text_lengths)\n",
    "\n",
    "                if torch.isnan(loss) or torch.isinf(loss):\n",
    "                    tqdm.write(f\"Warning (Train Batch {i}): NaN or Inf loss detected ({loss.item()}). Skipping backward.\")\n",
    "                    continue\n",
    "\n",
    "                # Backward pass and optimization\n",
    "                loss.backward()\n",
    "                torch.nn.utils.clip_grad_norm_(model.parameters(), max_norm=5.0)\n",
    "                optimizer.step()\n",
    "\n",
    "                current_loss = loss.item()\n",
    "                epoch_loss += current_loss\n",
    "                processed_batches_train += 1 # Count successful batches\n",
    "                # Update postfix using the tqdm object from the 'with' statement\n",
    "                batch_pbar.set_postfix(loss=f\"{current_loss:.4f}\", refresh=True) # Use refresh=True for console updates\n",
    "\n",
    "            except RuntimeError as e:\n",
    "                 if \"targets must be shorter than inputs\" in str(e):\n",
    "                      tqdm.write(f\"CTC Runtime Error (Train Batch {i}): Targets longer than inputs. InputL={input_lengths.tolist()}, TargetL={text_lengths.tolist()}. Skipping batch.\")\n",
    "                 else:\n",
    "                      tqdm.write(f\"Runtime Error during training loss/backward (Batch {i}): {e}. Skipping batch.\")\n",
    "                 optimizer.zero_grad(set_to_none=True)\n",
    "                 continue\n",
    "            except Exception as e:\n",
    "                 tqdm.write(f\"Generic Error during training loss/backward (Batch {i}): {e}. Skipping batch.\")\n",
    "                 optimizer.zero_grad(set_to_none=True)\n",
    "                 continue\n",
    "        # End of training 'with' block (batch_pbar is automatically closed)\n",
    "\n",
    "    # --- Training Epoch Finished ---\n",
    "    # Calculate average loss based on successfully processed batches\n",
    "    avg_epoch_loss = epoch_loss / processed_batches_train if processed_batches_train > 0 else 0.0\n",
    "    # Print summary AFTER the training progress bar is gone\n",
    "    print(f\"--- Epoch {epoch+1} Training Finished. Average Loss: {avg_epoch_loss:.4f} ---\")\n",
    "\n",
    "    # Update learning rate scheduler (if used after training epoch)\n",
    "    # scheduler.step()\n",
    "\n",
    "    # --- Validation Phase ---\n",
    "    model.eval() # Set model to evaluation mode\n",
    "    val_loss = 0.0\n",
    "    all_preds = []\n",
    "    all_labels = []\n",
    "    processed_batches_val = 0\n",
    "\n",
    "    # Use 'with' statement for validation loop\n",
    "    with tqdm(enumerate(val_loader),\n",
    "              total=len(val_loader),\n",
    "              desc=f\"Epoch {epoch+1} Validation\",\n",
    "              leave=False, # Bar disappears after loop\n",
    "              unit=\"batch\") as val_pbar: # Assign tqdm object to val_pbar\n",
    "\n",
    "        with torch.no_grad(): # Disable gradient calculations for validation\n",
    "            for i_val, (words_val, sizes_val, chunks_val) in val_pbar:\n",
    "                # Prepare validation data\n",
    "                images_val = chunks_val.to(device, non_blocking=True)\n",
    "                num_chunks_val = images_val.shape[1]\n",
    "                images_val = torch.cat([images_val[:, c_idx] for c_idx in range(num_chunks_val)], dim=2).unsqueeze(1)\n",
    "                labels_val_str = [l.decode('utf-8') if isinstance(l, bytes) else l for l in words_val[0]]\n",
    "\n",
    "                if not labels_val_str or images_val.numel() == 0:\n",
    "                    tqdm.write(f\"Warning (Val Batch {i_val}): Empty labels or image data. Skipping.\")\n",
    "                    continue\n",
    "\n",
    "                encoded_texts_val, text_lengths_val = converter.encode(labels_val_str)\n",
    "                encoded_texts_val = encoded_texts_val.to(device)\n",
    "                text_lengths_val = text_lengths_val.to(device)\n",
    "\n",
    "                # Forward pass\n",
    "                try:\n",
    "                     outputs_val = model(images_val) # [W, B, C]\n",
    "                except Exception as e:\n",
    "                     tqdm.write(f\"Error during forward pass (Val Batch {i_val}): {e}. Skipping.\")\n",
    "                     continue\n",
    "\n",
    "                seq_len_val, bs_val, _ = outputs_val.shape\n",
    "                if bs_val != len(labels_val_str):\n",
    "                    tqdm.write(f\"Warning (Val Batch {i_val}): Batch size mismatch! Model B={bs_val}, Labels B={len(labels_val_str)}. Skipping.\")\n",
    "                    continue\n",
    "                input_lengths_val = torch.full(size=(bs_val,), fill_value=seq_len_val, dtype=torch.long, device=device)\n",
    "                log_probs_val = F.log_softmax(outputs_val, dim=2)\n",
    "\n",
    "                # Calculate validation loss\n",
    "                current_val_loss = None\n",
    "                try:\n",
    "                    # Pre-checks similar to training\n",
    "                    if torch.any(text_lengths_val <= 0):\n",
    "                         tqdm.write(f\"Warning (Val Batch {i_val}): Invalid target length <=0. Skipping loss.\")\n",
    "                    elif encoded_texts_val.shape[0] != text_lengths_val.sum():\n",
    "                         tqdm.write(f\"Warning (Val Batch {i_val}): Encoded text length != sum(text_lengths). Skipping loss.\")\n",
    "                    elif torch.any(input_lengths_val <= text_lengths_val):\n",
    "                         problem_indices_val = torch.where(input_lengths_val <= text_lengths_val)[0]\n",
    "                         tqdm.write(f\"Warning (Val Batch {i_val}): Input length <= Target length for indices {problem_indices_val.tolist()}. Skipping loss.\")\n",
    "                    else:\n",
    "                        loss_val_tensor = criterion(log_probs_val, encoded_texts_val, input_lengths_val, text_lengths_val)\n",
    "                        if not torch.isnan(loss_val_tensor) and not torch.isinf(loss_val_tensor):\n",
    "                            current_val_loss = loss_val_tensor.item()\n",
    "                            val_loss += current_val_loss\n",
    "                            processed_batches_val += 1 # Count successful validation batches\n",
    "                        else:\n",
    "                            tqdm.write(f\"Warning (Val Batch {i_val}): NaN/Inf validation loss detected.\")\n",
    "\n",
    "                except RuntimeError as e:\n",
    "                     tqdm.write(f\"Runtime Error during validation loss (Batch {i_val}): {e}. Skipping loss for batch.\")\n",
    "                except Exception as e:\n",
    "                     tqdm.write(f\"Generic Error during validation loss (Batch {i_val}): {e}. Skipping loss for batch.\")\n",
    "\n",
    "                # Update validation postfix (using the tqdm object 'val_pbar')\n",
    "                val_pbar.set_postfix(loss=f\"{current_val_loss:.4f}\" if current_val_loss is not None else \"N/A\", refresh=True)\n",
    "\n",
    "                # Decode predictions for metrics\n",
    "                try:\n",
    "                    decoded_val = decode_predictions(outputs_val, converter)\n",
    "                    all_preds.extend(decoded_val)\n",
    "                    all_labels.extend(labels_val_str)\n",
    "\n",
    "                    if i_val == 0: # Only show for the first validation batch each epoch\n",
    "                        print(\"\\n--- Validation Batch 0 Samples ---\")\n",
    "                        # Determine how many samples to show (e.g., first 5 or min(5, bs_val))\n",
    "                        num_samples_to_show = min(2, bs_val)\n",
    "                        for j in range(num_samples_to_show):\n",
    "                            try:\n",
    "                                plt.imshow(images_val[j].squeeze().cpu().numpy(), cmap='gray') # Use images_val[j]\n",
    "                                plt.title(f\"Val Sample {j}\") # Generic title\n",
    "                                plt.show() # Display the image\n",
    "    \n",
    "                                # Print corresponding labels and predictions from the CURRENT batch\n",
    "                                print(f\"  True Label:    '{labels_val_str[j]}'\")\n",
    "                                print(f\"  Predicted Label: '{decoded_val[j]}'\")\n",
    "                                print(\"-\" * 20)\n",
    "    \n",
    "                            except IndexError:\n",
    "                                 print(f\"Warning: Tried to display sample {j}, but batch size might be smaller.\")\n",
    "                                 break # Stop if we run out of samples in the batch\n",
    "                            except Exception as display_e:\n",
    "                                print(f\"Error displaying validation sample {j}: {display_e}\")\n",
    "                        print(\"--- End Validation Batch 0 Samples ---\\n\")\n",
    "\n",
    "                except Exception as e:\n",
    "                    tqdm.write(f\"Error during decoding (Val Batch {i_val}): {e}. Skipping metrics for batch.\")\n",
    "            # End of validation loop body\n",
    "        # End of validation 'with torch.no_grad()' block\n",
    "    # End of validation 'with tqdm(...)' block (val_pbar is automatically closed)\n",
    "\n",
    "    # --- Validation Epoch Finished ---\n",
    "    avg_val_loss = val_loss / processed_batches_val if processed_batches_val > 0 else 0.0\n",
    "    val_cer, val_wer = -1.0, -1.0 # Default values\n",
    "    if all_preds and all_labels:\n",
    "        try:\n",
    "            val_cer = calculate_cer(all_preds, all_labels)\n",
    "            val_wer = calculate_wer(all_preds, all_labels)\n",
    "        except Exception as e:\n",
    "            tqdm.write(f\"Error calculating CER/WER: {e}\")\n",
    "    elif not all_labels and processed_batches_val > 0 : # Check if validation ran but labels were missing\n",
    "         tqdm.write(\"Warning: No labels collected during validation, cannot calculate CER/WER.\")\n",
    "    elif processed_batches_val == 0:\n",
    "         tqdm.write(\"Warning: No batches successfully processed during validation.\")\n",
    "    else: # Labels exist, but preds failed/missing\n",
    "         tqdm.write(\"Warning: No predictions generated/collected during validation, cannot calculate CER/WER.\")\n",
    "\n",
    "    # Print validation summary AFTER the validation progress bar is gone\n",
    "    print(f\"--- Validation Epoch {epoch+1}: Avg Loss: {avg_val_loss:.4f}, CER: {val_cer:.4f}, WER: {val_wer:.4f} ---\")\n",
    "\n",
    "    # --- End of Epoch ---\n",
    "    model.train() # Set model back to training mode for the next epoch\n",
    "\n",
    "    # --- Save Checkpoint ---\n",
    "    if (epoch + 1) % 5 == 0 or epoch == opt.epochs - 1:\n",
    "        checkpoint_path = os.path.join(opt.checkpoint_dir, opt.experiment_name)\n",
    "        os.makedirs(checkpoint_path, exist_ok=True)\n",
    "        save_path = os.path.join(checkpoint_path, f'model_epoch_{epoch+1}.pth')\n",
    "        try:\n",
    "            torch.save({\n",
    "                'epoch': epoch + 1,\n",
    "                'model_state_dict': model.state_dict(),\n",
    "                'optimizer_state_dict': optimizer.state_dict(),\n",
    "                'train_loss': avg_epoch_loss,\n",
    "                'val_loss': avg_val_loss,\n",
    "                'val_cer': val_cer,\n",
    "                'val_wer': val_wer,\n",
    "                'opt': vars(opt)\n",
    "            }, save_path)\n",
    "            # Use standard print for checkpoint saving message, as bars are gone\n",
    "            print(f\"Checkpoint saved to {save_path}\")\n",
    "        except Exception as e:\n",
    "            print(f\"Error saving checkpoint: {e}\") # Use standard print here too\n",
    "\n",
    "print(\"\\nTraining Finished.\")"
   ]
  }
 ],
 "metadata": {
  "kernelspec": {
   "display_name": "Python 3 (ipykernel)",
   "language": "python",
   "name": "python3"
  },
  "language_info": {
   "codemirror_mode": {
    "name": "ipython",
    "version": 3
   },
   "file_extension": ".py",
   "mimetype": "text/x-python",
   "name": "python",
   "nbconvert_exporter": "python",
   "pygments_lexer": "ipython3",
   "version": "3.11.11"
  }
 },
 "nbformat": 4,
 "nbformat_minor": 4
}
